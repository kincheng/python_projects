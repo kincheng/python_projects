{
 "cells": [
  {
   "cell_type": "markdown",
   "metadata": {},
   "source": [
    "# Regex to scrape phone numbers and emails from your clipboard"
   ]
  },
  {
   "cell_type": "code",
   "execution_count": null,
   "metadata": {
    "collapsed": true
   },
   "outputs": [],
   "source": [
    "# Code will scrape the phone and email from https://www.phila.gov/departments/department-of-revenue/about/contact-us/ \n",
    "import re, pyperclip\n",
    "\n",
    "# Create a regex for phone numbers\n",
    "phoneRegex = re.compile(r'''\n",
    "# types of numbers 415-555-5555, (610) 555-5555, 555,0000, 555-0000 ext. 12345 x12345\n",
    "\n",
    "(((\\d\\d\\d)|(\\(\\d\\d\\d\\)))?     # area code (optional)\n",
    "(\\s|-)                       # first separator\n",
    "\\d\\d\\d                       # first 3 digits\n",
    "-                            # separator\n",
    "\\d\\d\\d\\d                     # last 4 digits\n",
    "(((ext(\\.)?\\s)|x)             # extension word-part (optional)\n",
    "(\\d{2,5}))?                 # extension number-part (optional)\n",
    ")\n",
    "''', re.VERBOSE)\n",
    "\n",
    "# Create a regex for email addresses\n",
    "emailRegex = re.compile(r'''\n",
    "\n",
    "# some.+_thing@(\\d{2,5}))?.com\n",
    "\n",
    "[a-zA-Z0-9_.+]+        # name part\n",
    "@                      # @ symbol\n",
    "[a-zA-Z0-9_.+]+        # domain name part\n",
    "\n",
    "''', re.VERBOSE)"
   ]
  },
  {
   "cell_type": "code",
   "execution_count": 7,
   "metadata": {},
   "outputs": [
    {
     "name": "stdout",
     "output_type": "stream",
     "text": [
      "[('(215) 686-6600', '(215)', '', '(215)', ' ', '', '', '', '', ''), ('(215) 686-6831', '(215)', '', '(215)', ' ', '', '', '', '', ''), ('(877) 309-3710', '(877)', '', '(877)', ' ', '', '', '', '', ''), ('(215) 686-6442', '(215)', '', '(215)', ' ', '', '', '', '', ''), ('(215) 686-4343', '(215)', '', '(215)', ' ', '', '', '', '', ''), ('(215) 686-4336', '(215)', '', '(215)', ' ', '', '', '', '', ''), ('(877) 309-3709', '(877)', '', '(877)', ' ', '', '', '', '', ''), ('(215) 685-6300', '(215)', '', '(215)', ' ', '', '', '', '', ''), ('(215) 685-6300', '(215)', '', '(215)', ' ', '', '', '', '', ''), ('(215) 686-6565', '(215)', '', '(215)', ' ', '', '', '', '', ''), ('(215) 686-6574', '(215)', '', '(215)', ' ', '', '', '', '', ''), ('(215) 686-6575', '(215)', '', '(215)', ' ', '', '', '', '', ''), ('(215) 686-6578', '(215)', '', '(215)', ' ', '', '', '', '', ''), ('(215) 686-2670', '(215)', '', '(215)', ' ', '', '', '', '', ''), ('(215) 686-6648', '(215)', '', '(215)', ' ', '', '', '', '', '')]\n",
      "['revenue@phila.gov', 'vicki.riley@phila.gov', 'revenue@phila.gov', 'wrbhelpdesk@phila.gov', 'tax.clearance@phila.gov', 'refundunit@phila.gov', 'agency.receivables@phila.gov', 'egovservices@phila.gov', 'amountdue@phila.gov', 'wateramountdue@phila.gov']\n"
     ]
    }
   ],
   "source": [
    "# Get the text off the clipboard\n",
    "text = pyperclip.paste()\n",
    "\n",
    "# Extract the email/phone from this text\n",
    "extractedPhone = phoneRegex.findall(text)\n",
    "extractedEmail = emailRegex.findall(text)\n",
    "\n",
    "allPhoneNumbers = []\n",
    "for phoneNumber in extractedPhone:\n",
    "    allPhoneNumbers.append(phoneNumber[0])\n",
    "    \n",
    "allEmail = []\n",
    "for email in extractedEmail:\n",
    "    allEmail.append(email)\n",
    "\n",
    "print(extractedPhone)\n",
    "print(extractedEmail)"
   ]
  },
  {
   "cell_type": "code",
   "execution_count": 12,
   "metadata": {},
   "outputs": [
    {
     "data": {
      "text/plain": [
       "['(215) 686-6600',\n",
       " '(215) 686-6831',\n",
       " '(877) 309-3710',\n",
       " '(215) 686-6442',\n",
       " '(215) 686-4343',\n",
       " '(215) 686-4336',\n",
       " '(877) 309-3709',\n",
       " '(215) 685-6300',\n",
       " '(215) 685-6300',\n",
       " '(215) 686-6565']"
      ]
     },
     "execution_count": 12,
     "metadata": {},
     "output_type": "execute_result"
    }
   ],
   "source": [
    "# shows first 10 phone numbers\n",
    "allPhoneNumbers[:10]"
   ]
  },
  {
   "cell_type": "code",
   "execution_count": 13,
   "metadata": {},
   "outputs": [
    {
     "data": {
      "text/plain": [
       "['revenue@phila.gov',\n",
       " 'vicki.riley@phila.gov',\n",
       " 'revenue@phila.gov',\n",
       " 'wrbhelpdesk@phila.gov',\n",
       " 'tax.clearance@phila.gov',\n",
       " 'refundunit@phila.gov',\n",
       " 'agency.receivables@phila.gov',\n",
       " 'egovservices@phila.gov',\n",
       " 'amountdue@phila.gov',\n",
       " 'wateramountdue@phila.gov']"
      ]
     },
     "execution_count": 13,
     "metadata": {},
     "output_type": "execute_result"
    }
   ],
   "source": [
    "# shows first 10 email addresses\n",
    "allEmail[:10]"
   ]
  },
  {
   "cell_type": "code",
   "execution_count": 34,
   "metadata": {
    "collapsed": true
   },
   "outputs": [],
   "source": [
    "# copies results onto your computer's clipboard\n",
    "results = '\\n'.join(allPhoneNumbers) + '\\n' + '\\n'.join(extractedEmail)\n",
    "pyperclip.copy(results)"
   ]
  }
 ],
 "metadata": {
  "kernelspec": {
   "display_name": "Python 3",
   "language": "python",
   "name": "python3"
  },
  "language_info": {
   "codemirror_mode": {
    "name": "ipython",
    "version": 3
   },
   "file_extension": ".py",
   "mimetype": "text/x-python",
   "name": "python",
   "nbconvert_exporter": "python",
   "pygments_lexer": "ipython3",
   "version": "3.6.3"
  }
 },
 "nbformat": 4,
 "nbformat_minor": 2
}
