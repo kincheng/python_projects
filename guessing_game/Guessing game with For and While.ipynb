{
 "cells": [
  {
   "cell_type": "markdown",
   "metadata": {},
   "source": [
    "# Coding guessing game with a for loop and while loop. "
   ]
  },
  {
   "cell_type": "code",
   "execution_count": 1,
   "metadata": {},
   "outputs": [
    {
     "name": "stdout",
     "output_type": "stream",
     "text": [
      "Hello. What is your name?\n",
      "Kin\n",
      "Well Kin, I am thinking of a number between 1 and 10\n",
      "Take a guess.\n",
      "5\n",
      "Your guess is too high\n",
      "Take a guess.\n",
      "3\n",
      "Your guess is too high\n",
      "Take a guess.\n",
      "1\n",
      "You guessed the number!\n",
      "Congratulations Kin! The secret number is 1\n"
     ]
    }
   ],
   "source": [
    "#This is a number guessing game using a while loop\n",
    "import random\n",
    "\n",
    "#asks for the player's name\n",
    "print('Hello. What is your name?')\n",
    "name = input()\n",
    "\n",
    "print('Well ' + name + ', I am thinking of a number between 1 and 10')\n",
    "secretNum = random.randint(1,10)\n",
    "numOfGuesses = 0\n",
    "allowedGuesses = 6\n",
    "\n",
    "#player takes the allowed number of guesses\n",
    "while numOfGuesses < allowedGuesses:\n",
    "    try: #requires numeric guess\n",
    "        print('Take a guess.')\n",
    "        guess = int(input())\n",
    "        if guess < secretNum:\n",
    "            print('Your guess is too low')\n",
    "        elif guess > secretNum:\n",
    "            print('Your guess is too high')\n",
    "        else:\n",
    "            print('You guessed the number!')\n",
    "            break #breaks out of loop if guess is correct\n",
    "        numOfGuesses += 1\n",
    "    except ValueError:\n",
    "        print('You must enter a numeric number!')\n",
    "        \n",
    "if numOfGuesses == allowedGuesses:\n",
    "    print('Sorry ' + name + '. You\\'ve taken too many guesses. Try again later')\n",
    "else:\n",
    "    print('Congratulations ' + name + '! The secret number is ' + str(secretNum))"
   ]
  },
  {
   "cell_type": "code",
   "execution_count": 2,
   "metadata": {},
   "outputs": [
    {
     "name": "stdout",
     "output_type": "stream",
     "text": [
      "Hello. What is your name?\n",
      "Kin\n",
      "Well Kin, I am thinking of a number between 1 and 10\n",
      "Take a guess.\n",
      "5\n",
      "Your guess is too high\n",
      "Take a guess.\n",
      "3\n",
      "Your guess is too high\n",
      "Take a guess.\n",
      "1\n",
      "Your guess is too low\n",
      "Take a guess.\n",
      "2\n",
      "You guessed it!\n",
      "Congratuations Kin! The secret number is 2\n"
     ]
    }
   ],
   "source": [
    "#this is a guess the number game using a for loop\n",
    "import random\n",
    "\n",
    "#asks for the player's name\n",
    "print('Hello. What is your name?')\n",
    "name = input()\n",
    "\n",
    "print('Well ' + name + ', I am thinking of a number between 1 and 10')\n",
    "secretNum = random.randint(1,10)\n",
    "\n",
    "#player takes 6 guesses\n",
    "for guessesTaken in range(1, 7):\n",
    "    try: #requires numeric guess\n",
    "        print('Take a guess.')\n",
    "        guess = int(input())\n",
    "\n",
    "        if guess < secretNum:\n",
    "            print('Your guess is too low')\n",
    "        elif guess > secretNum:\n",
    "            print('Your guess is too high')\n",
    "        else:\n",
    "            print('You guessed it!')\n",
    "            break #breaks out of loop of guess is correct\n",
    "    except ValueError:\n",
    "        print('You must enter a numeric number!')\n",
    "        \n",
    "if guessesTaken == 6:\n",
    "    print('Sorry ' + name + '. You\\'ve taken too many guesses. Try again later')\n",
    "else:\n",
    "    print('Congratuations ' + name + '! The secret number is ' + str(secretNum))\n",
    "    "
   ]
  }
 ],
 "metadata": {
  "kernelspec": {
   "display_name": "Python 3",
   "language": "python",
   "name": "python3"
  },
  "language_info": {
   "codemirror_mode": {
    "name": "ipython",
    "version": 3
   },
   "file_extension": ".py",
   "mimetype": "text/x-python",
   "name": "python",
   "nbconvert_exporter": "python",
   "pygments_lexer": "ipython3",
   "version": "3.6.3"
  }
 },
 "nbformat": 4,
 "nbformat_minor": 2
}
