{
 "cells": [
  {
   "cell_type": "markdown",
   "metadata": {},
   "source": [
    "# Comcast stock analysis with OHLC chart (open, high, low, close)"
   ]
  },
  {
   "cell_type": "code",
   "execution_count": 3,
   "metadata": {},
   "outputs": [],
   "source": [
    "from matplotlib import pyplot as plt\n",
    "from matplotlib import style\n",
    "from matplotlib.finance import candlestick_ohlc\n",
    "from pandas_datareader import data as pdr\n",
    "import matplotlib.dates as mdates\n",
    "import pandas as pd\n",
    "import fix_yahoo_finance as fyf\n",
    "fyf.pdr_override()\n",
    "style.use('ggplot')\n",
    "%matplotlib inline"
   ]
  },
  {
   "cell_type": "code",
   "execution_count": 4,
   "metadata": {},
   "outputs": [
    {
     "name": "stdout",
     "output_type": "stream",
     "text": [
      "[*********************100%***********************]  1 of 1 downloaded\n"
     ]
    }
   ],
   "source": [
    "# reads in Comcast stock to df\n",
    "df = pdr.get_data_yahoo('CMCSA',start='2016-01-01')\n",
    "style.use('ggplot')"
   ]
  },
  {
   "cell_type": "code",
   "execution_count": 5,
   "metadata": {},
   "outputs": [
    {
     "data": {
      "text/html": [
       "<div>\n",
       "<style scoped>\n",
       "    .dataframe tbody tr th:only-of-type {\n",
       "        vertical-align: middle;\n",
       "    }\n",
       "\n",
       "    .dataframe tbody tr th {\n",
       "        vertical-align: top;\n",
       "    }\n",
       "\n",
       "    .dataframe thead th {\n",
       "        text-align: right;\n",
       "    }\n",
       "</style>\n",
       "<table border=\"1\" class=\"dataframe\">\n",
       "  <thead>\n",
       "    <tr style=\"text-align: right;\">\n",
       "      <th></th>\n",
       "      <th>Open</th>\n",
       "      <th>High</th>\n",
       "      <th>Low</th>\n",
       "      <th>Close</th>\n",
       "      <th>Adj Close</th>\n",
       "      <th>Volume</th>\n",
       "    </tr>\n",
       "    <tr>\n",
       "      <th>Date</th>\n",
       "      <th></th>\n",
       "      <th></th>\n",
       "      <th></th>\n",
       "      <th></th>\n",
       "      <th></th>\n",
       "      <th></th>\n",
       "    </tr>\n",
       "  </thead>\n",
       "  <tbody>\n",
       "    <tr>\n",
       "      <th>2016-01-04</th>\n",
       "      <td>27.575001</td>\n",
       "      <td>27.825001</td>\n",
       "      <td>27.424999</td>\n",
       "      <td>27.820000</td>\n",
       "      <td>25.877962</td>\n",
       "      <td>26524600</td>\n",
       "    </tr>\n",
       "    <tr>\n",
       "      <th>2016-01-05</th>\n",
       "      <td>27.920000</td>\n",
       "      <td>28.025000</td>\n",
       "      <td>27.740000</td>\n",
       "      <td>27.825001</td>\n",
       "      <td>25.882614</td>\n",
       "      <td>28308800</td>\n",
       "    </tr>\n",
       "    <tr>\n",
       "      <th>2016-01-06</th>\n",
       "      <td>27.459999</td>\n",
       "      <td>27.825001</td>\n",
       "      <td>27.375000</td>\n",
       "      <td>27.610001</td>\n",
       "      <td>25.682621</td>\n",
       "      <td>21650800</td>\n",
       "    </tr>\n",
       "    <tr>\n",
       "      <th>2016-01-07</th>\n",
       "      <td>27.045000</td>\n",
       "      <td>27.680000</td>\n",
       "      <td>26.885000</td>\n",
       "      <td>27.305000</td>\n",
       "      <td>25.398912</td>\n",
       "      <td>32423400</td>\n",
       "    </tr>\n",
       "    <tr>\n",
       "      <th>2016-01-08</th>\n",
       "      <td>27.430000</td>\n",
       "      <td>28.020000</td>\n",
       "      <td>27.285000</td>\n",
       "      <td>27.334999</td>\n",
       "      <td>25.426817</td>\n",
       "      <td>28184600</td>\n",
       "    </tr>\n",
       "  </tbody>\n",
       "</table>\n",
       "</div>"
      ],
      "text/plain": [
       "                 Open       High        Low      Close  Adj Close    Volume\n",
       "Date                                                                       \n",
       "2016-01-04  27.575001  27.825001  27.424999  27.820000  25.877962  26524600\n",
       "2016-01-05  27.920000  28.025000  27.740000  27.825001  25.882614  28308800\n",
       "2016-01-06  27.459999  27.825001  27.375000  27.610001  25.682621  21650800\n",
       "2016-01-07  27.045000  27.680000  26.885000  27.305000  25.398912  32423400\n",
       "2016-01-08  27.430000  28.020000  27.285000  27.334999  25.426817  28184600"
      ]
     },
     "execution_count": 5,
     "metadata": {},
     "output_type": "execute_result"
    }
   ],
   "source": [
    "df.head()"
   ]
  },
  {
   "cell_type": "code",
   "execution_count": 6,
   "metadata": {
    "collapsed": true
   },
   "outputs": [],
   "source": [
    "# resampling with a 10 day window\n",
    "df_ohlc = df['Adj Close'].resample('10D').ohlc()\n",
    "df_volume = df['Volume'].resample('10D').sum()"
   ]
  },
  {
   "cell_type": "code",
   "execution_count": 7,
   "metadata": {
    "collapsed": true
   },
   "outputs": [],
   "source": [
    "# resets the idnex so the dates is a column \n",
    "df_ohlc.reset_index(inplace=True)\n",
    "df_ohlc['Date'] = df_ohlc['Date'].map(mdates.date2num)"
   ]
  },
  {
   "cell_type": "code",
   "execution_count": 8,
   "metadata": {},
   "outputs": [
    {
     "data": {
      "text/html": [
       "<div>\n",
       "<style scoped>\n",
       "    .dataframe tbody tr th:only-of-type {\n",
       "        vertical-align: middle;\n",
       "    }\n",
       "\n",
       "    .dataframe tbody tr th {\n",
       "        vertical-align: top;\n",
       "    }\n",
       "\n",
       "    .dataframe thead th {\n",
       "        text-align: right;\n",
       "    }\n",
       "</style>\n",
       "<table border=\"1\" class=\"dataframe\">\n",
       "  <thead>\n",
       "    <tr style=\"text-align: right;\">\n",
       "      <th></th>\n",
       "      <th>Date</th>\n",
       "      <th>open</th>\n",
       "      <th>high</th>\n",
       "      <th>low</th>\n",
       "      <th>close</th>\n",
       "    </tr>\n",
       "  </thead>\n",
       "  <tbody>\n",
       "    <tr>\n",
       "      <th>0</th>\n",
       "      <td>735967.0</td>\n",
       "      <td>25.877962</td>\n",
       "      <td>25.882614</td>\n",
       "      <td>24.905910</td>\n",
       "      <td>24.905910</td>\n",
       "    </tr>\n",
       "    <tr>\n",
       "      <th>1</th>\n",
       "      <td>735977.0</td>\n",
       "      <td>25.603554</td>\n",
       "      <td>25.733786</td>\n",
       "      <td>24.933815</td>\n",
       "      <td>25.733786</td>\n",
       "    </tr>\n",
       "    <tr>\n",
       "      <th>2</th>\n",
       "      <td>735987.0</td>\n",
       "      <td>25.212872</td>\n",
       "      <td>25.957031</td>\n",
       "      <td>25.166365</td>\n",
       "      <td>25.389610</td>\n",
       "    </tr>\n",
       "    <tr>\n",
       "      <th>3</th>\n",
       "      <td>735997.0</td>\n",
       "      <td>26.901169</td>\n",
       "      <td>27.631376</td>\n",
       "      <td>25.957031</td>\n",
       "      <td>26.408169</td>\n",
       "    </tr>\n",
       "    <tr>\n",
       "      <th>4</th>\n",
       "      <td>736007.0</td>\n",
       "      <td>26.733742</td>\n",
       "      <td>27.045357</td>\n",
       "      <td>26.659327</td>\n",
       "      <td>27.045357</td>\n",
       "    </tr>\n",
       "  </tbody>\n",
       "</table>\n",
       "</div>"
      ],
      "text/plain": [
       "       Date       open       high        low      close\n",
       "0  735967.0  25.877962  25.882614  24.905910  24.905910\n",
       "1  735977.0  25.603554  25.733786  24.933815  25.733786\n",
       "2  735987.0  25.212872  25.957031  25.166365  25.389610\n",
       "3  735997.0  26.901169  27.631376  25.957031  26.408169\n",
       "4  736007.0  26.733742  27.045357  26.659327  27.045357"
      ]
     },
     "execution_count": 8,
     "metadata": {},
     "output_type": "execute_result"
    }
   ],
   "source": [
    "df_ohlc.head()"
   ]
  },
  {
   "cell_type": "code",
   "execution_count": 9,
   "metadata": {},
   "outputs": [
    {
     "data": {
      "image/png": "[encoded data removed]",
      "text/plain": [
       "<matplotlib.figure.Figure at 0x1d2d31324e0>"
      ]
     },
     "metadata": {},
     "output_type": "display_data"
    }
   ],
   "source": [
    "plt.figure(figsize=(16,6))\n",
    "ax1 = plt.subplot2grid((6,1),(0,0),rowspan=5,colspan=1)\n",
    "ax2 = plt.subplot2grid((6,1),(5,0),rowspan=1,colspan=1,sharex=ax1)\n",
    "ax1.xaxis_date()\n",
    "\n",
    "candlestick_ohlc(ax1, df_ohlc.values, width=2, colorup='g')\n",
    "ax2.fill_between(df_volume.index.map(mdates.date2num),df_volume.values,0);"
   ]
  },
  {
   "cell_type": "code",
   "execution_count": null,
   "metadata": {
    "collapsed": true
   },
   "outputs": [],
   "source": []
  }
 ],
 "metadata": {
  "kernelspec": {
   "display_name": "Python 3",
   "language": "python",
   "name": "python3"
  },
  "language_info": {
   "codemirror_mode": {
    "name": "ipython",
    "version": 3
   },
   "file_extension": ".py",
   "mimetype": "text/x-python",
   "name": "python",
   "nbconvert_exporter": "python",
   "pygments_lexer": "ipython3",
   "version": "3.6.3"
  }
 },
 "nbformat": 4,
 "nbformat_minor": 2
}
